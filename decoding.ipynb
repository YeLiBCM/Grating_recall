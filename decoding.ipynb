{
 "cells": [
  {
   "cell_type": "code",
   "execution_count": 1,
   "metadata": {},
   "outputs": [],
   "source": [
    "import os\n",
    "import scipy.io as sio\n",
    "import mat73\n",
    "import numpy as np\n",
    "from DecodingBasic import DataBasic\n",
    "from functools import reduce\n",
    "import matplotlib.pyplot as plt\n",
    "from scipy import stats"
   ]
  },
  {
   "cell_type": "code",
   "execution_count": 2,
   "metadata": {},
   "outputs": [],
   "source": [
    "# subject info\n",
    "sbj_name = 'YBN'\n",
    "contrast_blk = ['037']\n",
    "gamma_blk    = ['006']\n",
    "recall_blk   = ['038', '039', '040']\n",
    "tone_blk     = ['036']\n",
    "\n",
    "# home directory\n",
    "home_path = '~/Documents/MATLAB/ECoG'\n",
    "home_dir  = os.path.expanduser(home_path)"
   ]
  },
  {
   "cell_type": "code",
   "execution_count": 3,
   "metadata": {},
   "outputs": [],
   "source": [
    "# initiate decoding data object\n",
    "train_contrast_obj = DataBasic(sbj_name, contrast_blk,'vis_contrast_only')\n",
    "train_recall_obj   = DataBasic(sbj_name, recall_blk,'vis_contrast_recall')\n",
    "train_gamma_obj    = DataBasic(sbj_name, gamma_blk,'vis_contrast_gamma')\n",
    "test_recall_obj    = DataBasic(sbj_name, recall_blk,'vis_contrast_recall')\n",
    "test_tone_obj      = DataBasic(sbj_name, tone_blk,'vis_tone_only')"
   ]
  },
  {
   "cell_type": "code",
   "execution_count": 4,
   "metadata": {},
   "outputs": [],
   "source": [
    "# get electrode list\n",
    "elec_vis_list  = train_contrast_obj.elec_record('vis')\n",
    "elec_resp_list = train_contrast_obj.elec_record('resp') "
   ]
  },
  {
   "cell_type": "code",
   "execution_count": 5,
   "metadata": {},
   "outputs": [],
   "source": [
    "# frequency band that we are interested in\n",
    "band_NBG = [20, 60]"
   ]
  },
  {
   "cell_type": "code",
   "execution_count": null,
   "metadata": {},
   "outputs": [],
   "source": []
  },
  {
   "cell_type": "code",
   "execution_count": 19,
   "metadata": {},
   "outputs": [],
   "source": [
    "# extract training data and testing data, apply normalization\n",
    "count_ci = 0 \n",
    "for ci in elec_resp_list:\n",
    "    \n",
    "    # ~~~training data~~~~\n",
    "    \n",
    "    # extract spectral data and compute band average value\n",
    "    train_contrast_spect, label_train_contrast, _ = train_contrast_obj.extract_training_data(ci)    \n",
    "    train_recall_spect,   label_train_recall, _   = train_recall_obj.extract_training_data(ci)\n",
    "    train_gamma_spect,    label_train_gamma, _    = train_gamma_obj.extract_training_data(ci)\n",
    "\n",
    "    train_contrast_NBG = train_contrast_obj.get_band_value(band_NBG, train_contrast_spect, ci)\n",
    "    train_recall_NBG   = train_recall_obj.get_band_value(band_NBG, train_recall_spect, ci)\n",
    "    train_gamma_NBG    = train_gamma_obj.get_band_value(band_NBG, train_gamma_spect, ci)\n",
    "    \n",
    "    training_data  = np.concatenate((train_contrast_NBG, train_recall_NBG, train_gamma_NBG), axis = 0)\n",
    "    \n",
    "    # normalization\n",
    "    m = np.mean(training_data)\n",
    "    z = np.std(training_data)\n",
    "    training_data = (training_data - m)/z\n",
    "    \n",
    "    # ~~~~testing data~~~~\n",
    "    \n",
    "    # extract\n",
    "    test_recall_spect,    label_test_recall, _    = test_recall_obj.extract_testing_data(ci)\n",
    "    test_tone_spect,      label_test_tone, _      = test_tone_obj.extract_testing_data(ci)\n",
    "    \n",
    "    test_recall_NBG = test_recall_obj.get_band_value(band_NBG, test_recall_spect, ci)\n",
    "    test_tone_NBG   = test_tone_obj.get_band_value(band_NBG, test_tone_spect, ci)\n",
    "    \n",
    "    testing_data  = np.concatenate((test_recall_NBG, test_tone_NBG), axis = 0)\n",
    "    \n",
    "    # normalization\n",
    "    testing_data = (testing_data - m)/z\n",
    "    \n",
    "    # ~~~~append data~~~~~\n",
    "    training_data = np.expand_dims(training_data, axis = 0)\n",
    "    testing_data  = np.expand_dims(testing_data, axis = 0)\n",
    "    \n",
    "    if count_ci == 0:\n",
    "        training_all = training_data\n",
    "        testing_all  = testing_data\n",
    "    else:\n",
    "        training_all = np.append(training_all, training_data, axis = 0)\n",
    "        testing_all  = np.append(testing_all,  testing_data,  axis = 0)\n",
    "    \n",
    "    # ~~~~~extract label~~~~~\n",
    "    training_label = np.concatenate((label_train_contrast, label_train_recall, label_train_gamma))\n",
    "    testing_label = np.concatenate((label_test_recall, label_test_tone))\n",
    "    \n",
    "    count_ci += 1\n",
    "    "
   ]
  },
  {
   "cell_type": "code",
   "execution_count": 25,
   "metadata": {},
   "outputs": [],
   "source": [
    "np.save('training_data_YBN', training_all)\n",
    "np.save('testing_data_YBN', testing_all)\n",
    "np.save('training_label_YBN', training_label)\n",
    "np.save('testing_label_YBN', testing_label)"
   ]
  },
  {
   "cell_type": "code",
   "execution_count": 24,
   "metadata": {},
   "outputs": [
    {
     "data": {
      "text/plain": [
       "(120,)"
      ]
     },
     "execution_count": 24,
     "metadata": {},
     "output_type": "execute_result"
    }
   ],
   "source": [
    "testing_label.shape"
   ]
  },
  {
   "cell_type": "code",
   "execution_count": null,
   "metadata": {},
   "outputs": [],
   "source": []
  }
 ],
 "metadata": {
  "kernelspec": {
   "display_name": "Python 3",
   "language": "python",
   "name": "python3"
  },
  "language_info": {
   "codemirror_mode": {
    "name": "ipython",
    "version": 3
   },
   "file_extension": ".py",
   "mimetype": "text/x-python",
   "name": "python",
   "nbconvert_exporter": "python",
   "pygments_lexer": "ipython3",
   "version": "3.7.3"
  }
 },
 "nbformat": 4,
 "nbformat_minor": 4
}

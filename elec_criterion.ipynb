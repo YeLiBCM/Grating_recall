{
 "cells": [
  {
   "cell_type": "markdown",
   "metadata": {},
   "source": [
    "This notebook aims to find out electrodes under specific criterion."
   ]
  },
  {
   "cell_type": "markdown",
   "metadata": {},
   "source": [
    "# Criterion 1: visual responded during study phase\n",
    "\n",
    "Find electrodes have visual response (i.e. mean NBG activity > 50%) during the study phase within visual cortex."
   ]
  },
  {
   "cell_type": "code",
   "execution_count": 1,
   "metadata": {},
   "outputs": [],
   "source": [
    "import os\n",
    "import numpy as np\n",
    "from ECoGBasic import SpectralBasic\n",
    "from functools import reduce\n",
    "import mat73"
   ]
  },
  {
   "cell_type": "code",
   "execution_count": 2,
   "metadata": {},
   "outputs": [],
   "source": [
    "# subject info\n",
    "sbj_ls = ['YBG','YBI','YBJ','YBN','YCP']\n",
    "\n",
    "recall_blk_dict = {\n",
    "          'YBG' : ['007','008','009'],\n",
    "          'YBI' : ['014'],\n",
    "          'YBJ' : ['010'],\n",
    "          'YBN' : ['038', '039', '040'],\n",
    "          'YCP' : ['038'] # block 039 of YCP doesn't have study phase\n",
    "          }"
   ]
  },
  {
   "cell_type": "code",
   "execution_count": 3,
   "metadata": {},
   "outputs": [],
   "source": [
    "# home directory\n",
    "home_path = '~/Documents/MATLAB/ECoG'\n",
    "home_dir  = os.path.expanduser(home_path)"
   ]
  },
  {
   "cell_type": "code",
   "execution_count": 4,
   "metadata": {},
   "outputs": [],
   "source": [
    "# initiate all basic object\n",
    "basic_recall_dict = {}\n",
    "\n",
    "for sj in sbj_ls:\n",
    "    basic_recall_obj = SpectralBasic(sbj_name = sj,\n",
    "                               blk_name = recall_blk_dict[sj],\n",
    "                               task_name = 'vis_contrast_recall')\n",
    "    \n",
    "    basic_recall_dict[sj] = basic_recall_obj"
   ]
  },
  {
   "cell_type": "code",
   "execution_count": 5,
   "metadata": {},
   "outputs": [],
   "source": [
    "# get visual electrodes\n",
    "elec_vis_dict = {}\n",
    "\n",
    "for sj in sbj_ls:\n",
    "    basic_recall_obj = basic_recall_dict[sj]\n",
    "        \n",
    "    elec_vis = basic_recall_obj.select_channel() \n",
    "    \n",
    "    # save the good visual electrodes to dict\n",
    "    elec_vis_dict[sj] = elec_vis\n",
    "    \n",
    "    # update object dict (select_channel() will get master_dict and event_dict to object)\n",
    "    basic_recall_dict[sj] = basic_recall_obj"
   ]
  },
  {
   "cell_type": "code",
   "execution_count": 6,
   "metadata": {},
   "outputs": [],
   "source": [
    "# epoch window\n",
    "\n",
    "# All subjects are using the standard recording setting, here I manually code the parameters.\n",
    "# Codes need to be rewritten into more general way if using different recording settings among subjects.\n",
    "\n",
    "# tf_srate = round(master_vars.ecog_srate/master_vars.compress);\n",
    "tf_srate = round(2000/2)\n",
    "\n",
    "study_epoch_prestim  = np.floor(1*tf_srate)\n",
    "study_epoch_poststim = np.ceil(1*tf_srate)\n",
    "epoch_norm           = np.floor(0.5*tf_srate)"
   ]
  },
  {
   "cell_type": "code",
   "execution_count": 46,
   "metadata": {},
   "outputs": [],
   "source": [
    "def apply_criterion(sj,ci):\n",
    "    \n",
    "    # (Part1) Get trial-wise spectrum\n",
    "    trial_index = 0 # index for looping through trials of all blocks in a task\n",
    "    \n",
    "    nblk = len(recall_blk_dict[sj])\n",
    "    \n",
    "    # layer 1: loop through all blocks\n",
    "    for iblk in range(nblk):\n",
    "        blk = recall_blk_dict[sj][iblk]\n",
    "\n",
    "        # epoch trigger\n",
    "        study_onsets = basic_recall_dict[sj].event_dict[blk]['study_tone_trial_onset'][0][0]\n",
    "        study_trigger = np.round(study_onsets/2) # master_vars.compress=2\n",
    "\n",
    "        # extract spectral data\n",
    "        Spect_dir = home_dir + '/neuralData/SpecData'\n",
    "        Spect_path = Spect_dir + '/{}/{}/TF_decomp_CAR_{}_{}_{}.mat'.format(sj,blk,sj,blk,ci)\n",
    "\n",
    "        tf_band = mat73.loadmat(Spect_path)['band']\n",
    "        tf_amp  = tf_band['tf_data']['amplitude'].T\n",
    "\n",
    "        # layer 2: loop through trials\n",
    "        ntrial = len(study_trigger[0])\n",
    "        \n",
    "        for i in range(len(study_trigger[0])):\n",
    "            \n",
    "            epoch_start = (study_trigger[0,i] - study_epoch_prestim - 1).astype(int)\n",
    "            epoch_end  = (study_trigger[0,i] + study_epoch_poststim).astype(int)\n",
    "            tmp_epoch = tf_amp[:,epoch_start:epoch_end]\n",
    "            \n",
    "           \n",
    "            # normalization\n",
    "            norm_start = (study_epoch_prestim - epoch_norm-1).astype(int)\n",
    "            norm_end   = (study_epoch_prestim).astype(int)\n",
    "            norm_vect  = np.mean(tmp_epoch[:,norm_start:norm_end],axis = 1)\n",
    "                \n",
    "            # normalization\n",
    "            norm_vect  = norm_vect.reshape([len(norm_vect),1])\n",
    "            tmp_normed = tmp_epoch/norm_vect\n",
    "            \n",
    "            # paste result\n",
    "            tmp_normed = np.expand_dims(tmp_normed, axis = 0)\n",
    "            if trial_index == 0:\n",
    "                spectral_mx = tmp_normed\n",
    "            else:\n",
    "                spectral_mx = np.append(spectral_mx, tmp_normed, axis = 0)\n",
    "                    \n",
    "            trial_index += 1\n",
    "    \n",
    "    # Spectrum of all trials were stored in 'spectral_mx' (trial number x frequencies x time points)\n",
    "    \n",
    "    # (Part 2) Get mean spectrum of 250~500ms of study phase time window\n",
    "    freq_vect = np.arange(2,204,2)\n",
    "    NBG_start = np.where(freq_vect == 20)[0][0]\n",
    "    NBG_end   = np.where(freq_vect == 60)[0][0] + 1 \n",
    "    \n",
    "    vis_response = np.mean(spectral_mx[:,NBG_start:NBG_end,1500:-1])\n",
    "    \n",
    "    # (Part 3) Compare with 50%\n",
    "    return vis_response >= 50"
   ]
  },
  {
   "cell_type": "code",
   "execution_count": 47,
   "metadata": {},
   "outputs": [],
   "source": [
    "# empty result dict\n",
    "elect_vis_response_dict = {\n",
    "    'YBG':[],\n",
    "    'YBI':[],\n",
    "    'YBJ':[],\n",
    "    'YBN':[],\n",
    "    'YCP':[],\n",
    "}\n",
    "\n",
    "for sj in sbj_ls:\n",
    "    vis_elec = elec_vis_dict[sj]\n",
    "    \n",
    "    for ci in vis_elec:\n",
    "        int_ci = int(ci)\n",
    "        if apply_criterion(sj,int_ci):\n",
    "            elect_vis_response_dict[sj].append(int_ci)"
   ]
  },
  {
   "cell_type": "code",
   "execution_count": 42,
   "metadata": {},
   "outputs": [
    {
     "data": {
      "text/plain": [
       "31"
      ]
     },
     "execution_count": 42,
     "metadata": {},
     "output_type": "execute_result"
    }
   ],
   "source": [
    "len(elec_vis_dict['YBN'])"
   ]
  },
  {
   "cell_type": "code",
   "execution_count": 44,
   "metadata": {},
   "outputs": [
    {
     "data": {
      "text/plain": [
       "0"
      ]
     },
     "execution_count": 44,
     "metadata": {},
     "output_type": "execute_result"
    }
   ],
   "source": [
    "len(elect_vis_response_dict['YBN'])"
   ]
  },
  {
   "cell_type": "code",
   "execution_count": 9,
   "metadata": {},
   "outputs": [],
   "source": [
    "percent = [round(len(elect_vis_response_dict[sj])/len(elec_vis_dict[sj]),2) for sj in sbj_ls]"
   ]
  },
  {
   "cell_type": "code",
   "execution_count": 45,
   "metadata": {},
   "outputs": [
    {
     "data": {
      "text/plain": [
       "{'YBG': [], 'YBI': [], 'YBJ': [], 'YBN': [], 'YCP': []}"
      ]
     },
     "execution_count": 45,
     "metadata": {},
     "output_type": "execute_result"
    }
   ],
   "source": [
    "elect_vis_response_dict"
   ]
  },
  {
   "cell_type": "code",
   "execution_count": 10,
   "metadata": {},
   "outputs": [
    {
     "data": {
      "text/plain": [
       "[1.0, 1.0, 1.0, 1.0, 1.0]"
      ]
     },
     "execution_count": 10,
     "metadata": {},
     "output_type": "execute_result"
    }
   ],
   "source": [
    "for sj in sbj_ls:\n",
    "    print(sj)\n",
    "    print('Number of visual response electrodes: {}'.format(len(elect_)))"
   ]
  },
  {
   "cell_type": "code",
   "execution_count": 28,
   "metadata": {},
   "outputs": [
    {
     "data": {
      "text/plain": [
       "0.92"
      ]
     },
     "execution_count": 28,
     "metadata": {},
     "output_type": "execute_result"
    }
   ],
   "source": [
    "23/25"
   ]
  },
  {
   "cell_type": "code",
   "execution_count": null,
   "metadata": {},
   "outputs": [],
   "source": []
  },
  {
   "cell_type": "code",
   "execution_count": null,
   "metadata": {},
   "outputs": [],
   "source": []
  }
 ],
 "metadata": {
  "kernelspec": {
   "display_name": "Python 3",
   "language": "python",
   "name": "python3"
  },
  "language_info": {
   "codemirror_mode": {
    "name": "ipython",
    "version": 3
   },
   "file_extension": ".py",
   "mimetype": "text/x-python",
   "name": "python",
   "nbconvert_exporter": "python",
   "pygments_lexer": "ipython3",
   "version": "3.7.3"
  }
 },
 "nbformat": 4,
 "nbformat_minor": 4
}

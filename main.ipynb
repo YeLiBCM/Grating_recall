{
 "cells": [
  {
   "cell_type": "markdown",
   "metadata": {},
   "source": [
    "### gamma burst rate comparison\n",
    "This code get gamma burst rate of vis_tone_only task and vis_contrast_recall task and compare the burst rate during delay.\n",
    "\n",
    "Two methods to get gamma were used:  \n",
    "1) NBG and BBG were mean amplitude within frequency band  \n",
    "2) NBG and BBG were directly extracted during decomposition (Hilbert transform)"
   ]
  },
  {
   "cell_type": "code",
   "execution_count": 1,
   "metadata": {},
   "outputs": [],
   "source": [
    "import os\n",
    "import numpy as np\n",
    "from ECoGBurst import SpectralBurst\n",
    "from scipy import stats\n",
    "from functools import reduce\n",
    "import matplotlib.pyplot as plt\n",
    "import concurrent.futures"
   ]
  },
  {
   "cell_type": "code",
   "execution_count": 16,
   "metadata": {},
   "outputs": [],
   "source": [
    "# subject information\n",
    "sbj_name   = 'YCP'\n",
    "tone_blk   = ['035']\n",
    "recall_blk = ['038','039']"
   ]
  },
  {
   "cell_type": "code",
   "execution_count": 17,
   "metadata": {},
   "outputs": [],
   "source": [
    "# home directory\n",
    "home_path = '~/Documents/MATLAB/ECoG'\n",
    "home_dir  = os.path.expanduser(home_path)"
   ]
  },
  {
   "cell_type": "code",
   "execution_count": 18,
   "metadata": {},
   "outputs": [],
   "source": [
    "# initiate burst detection object\n",
    "burst_tone_obj = SpectralBurst(sbj_name = sbj_name, \n",
    "                               blk_name = tone_blk, \n",
    "                               task_name = 'vis_tone_only')\n",
    "burst_recall_obj = SpectralBurst(sbj_name = sbj_name,\n",
    "                               blk_name = recall_blk,\n",
    "                               task_name = 'vis_contrast_recall')"
   ]
  },
  {
   "cell_type": "code",
   "execution_count": 19,
   "metadata": {},
   "outputs": [],
   "source": [
    "# get good visual electrodes\n",
    "elec_list_tone   = burst_tone_obj.select_channel()\n",
    "elec_list_recall = burst_recall_obj.select_channel() \n",
    "\n",
    "elect_select = reduce(np.intersect1d, (elec_list_tone, elec_list_recall))\n",
    "elect_select = elect_select.astype(int)\n",
    "elect_select_list = elect_select.tolist()"
   ]
  },
  {
   "cell_type": "code",
   "execution_count": 20,
   "metadata": {},
   "outputs": [],
   "source": [
    "def plot_gamma_burst_rate(bursts, ci):\n",
    "    '''\n",
    "    plot out burst_rate\n",
    "    \n",
    "    Args:\n",
    "    bursts: a dictionary with burst events of NBG and BBG of two tasks\n",
    "    ci: channel number of the electrode\n",
    "    \n",
    "    Return:\n",
    "    None.\n",
    "    '''\n",
    "    NBG_burst_tone,   BBG_burst_tone     = bursts['NBG_burst_tone'],   bursts['BBG_burst_tone']\n",
    "    NBG_burst_recall, BBG_burst_recall   = bursts['NBG_burst_recall'], bursts['BBG_burst_recall']\n",
    "    \n",
    "    # calculate burst rate\n",
    "    tone_NBG_burst_rate   = np.mean(NBG_burst_tone, axis = 0)\n",
    "    tone_BBG_burst_rate   = np.mean(BBG_burst_tone, axis = 0)\n",
    "    recall_NBG_burst_rate = np.mean(NBG_burst_recall, axis = 0)\n",
    "    recall_BBG_burst_rate = np.mean(BBG_burst_recall, axis = 0)\n",
    "    \n",
    "    fig, axs = plt.subplots(2,1, figsize= (10,10))\n",
    "    plt.setp(axs, xticks = np.arange(0,7501,500), xticklabels = np.arange(-2500,5001,500),\n",
    "                  xlabel = 'Time(ms)', ylabel = 'Burst Rate')\n",
    "    \n",
    "    delay_label_NBG = max(np.max(tone_NBG_burst_rate),np.max(recall_NBG_burst_rate))\n",
    "    delay_label_BBG = max(np.max(tone_BBG_burst_rate),np.max(recall_BBG_burst_rate))\n",
    "    \n",
    "    axs[0].plot(tone_NBG_burst_rate, label = 'tone_only', color = 'blue')\n",
    "    axs[0].plot(recall_NBG_burst_rate, label = 'recall', color = 'orange')\n",
    "    axs[0].axvline(x=3000, color = 'k', linestyle = '--')\n",
    "    axs[0].axvline(x=6000, color = 'k', linestyle = '--')\n",
    "    axs[0].text(4500,0.8*delay_label_NBG,'Delay',fontsize = 15)\n",
    "    axs[0].set_title('NBG burst rate')\n",
    "    axs[0].legend()\n",
    "\n",
    "    axs[1].plot(tone_BBG_burst_rate, label = 'tone_only', color = 'blue')\n",
    "    axs[1].plot(recall_BBG_burst_rate, label = 'recall', color = 'orange')\n",
    "    axs[1].axvline(x=3000, color = 'k', linestyle = '--')\n",
    "    axs[1].axvline(x=6000, color = 'k', linestyle = '--')\n",
    "    axs[1].text(4500,0.8*delay_label_BBG,'Delay',fontsize = 15)\n",
    "    axs[1].set_title('BBG burst rate')\n",
    "    axs[1].legend()\n",
    "    \n",
    "    # save fig\n",
    "    fdir = '{}/Results/reactivation_compare/{}/Figures/{}_gamma_burst_rate_decomp_{}.png'.format(home_dir,sbj_name,sbj_name,ci)\n",
    "    fig.savefig(fdir)\n",
    "    plt.clf()\n",
    "    \n",
    "    # send result\n",
    "    print('electrode {} was processed...'.format(ci))"
   ]
  },
  {
   "cell_type": "code",
   "execution_count": 21,
   "metadata": {},
   "outputs": [],
   "source": [
    "def get_burst_plot(ci):\n",
    "    NBG_burst_tone_decomp,   BBG_burst_tone_decomp   = burst_tone_obj.gamma_burst(ci, gamma_type = 'decomp')\n",
    "    NBG_burst_recall_decomp, BBG_burst_recall_decomp = burst_recall_obj.gamma_burst(ci, gamma_type = 'decomp')\n",
    "    \n",
    "    bursts_decomp  = {'NBG_burst_tone': NBG_burst_tone_decomp,      'BBG_burst_tone': BBG_burst_tone_decomp,\n",
    "                      'NBG_burst_recall': NBG_burst_recall_decomp,  'BBG_burst_recall': BBG_burst_recall_decomp}\n",
    "    plot_gamma_burst_rate(bursts_decomp,ci)"
   ]
  },
  {
   "cell_type": "code",
   "execution_count": null,
   "metadata": {},
   "outputs": [],
   "source": []
  },
  {
   "cell_type": "code",
   "execution_count": 22,
   "metadata": {},
   "outputs": [
    {
     "name": "stdout",
     "output_type": "stream",
     "text": [
      "electrode 73 was processed...\n",
      "electrode 65 was processed...\n",
      "electrode 67 was processed...\n",
      "electrode 66 was processed...\n",
      "electrode 70 was processed...\n",
      "electrode 71 was processed...\n",
      "electrode 72 was processed...\n",
      "electrode 69 was processed...\n",
      "electrode 75 was processed...\n",
      "electrode 74 was processed...\n",
      "electrode 76 was processed...\n",
      "electrode 77 was processed...\n",
      "electrode 78 was processed...\n",
      "electrode 81 was processed...\n",
      "electrode 80 was processed...\n",
      "electrode 79 was processed...\n",
      "electrode 82 was processed...\n",
      "electrode 83 was processed...\n",
      "electrode 84 was processed...\n",
      "electrode 86 was processed...\n",
      "electrode 85 was processed...\n"
     ]
    }
   ],
   "source": [
    "with concurrent.futures.ProcessPoolExecutor() as executor:\n",
    "    executor.map(get_burst_plot,elect_select_list)"
   ]
  },
  {
   "cell_type": "markdown",
   "metadata": {},
   "source": [
    "Take channel 107 as an example.\n",
    "\n",
    "Burst rate using **method 1**: NBG and BBG were mean amplitude within frequency band shown as following."
   ]
  },
  {
   "cell_type": "code",
   "execution_count": null,
   "metadata": {},
   "outputs": [],
   "source": [
    "# apply gamma burst detection\n",
    "NBG_burst_tone_average,   BBG_burst_tone_average   = burst_tone_obj.gamma_burst(107, gamma_type = 'average')\n",
    "NBG_burst_recall_average, BBG_burst_recall_average = burst_recall_obj.gamma_burst(107, gamma_type = 'average')\n",
    "\n",
    "NBG_burst_tone_decomp,   BBG_burst_tone_decomp   = burst_tone_obj.gamma_burst(107, gamma_type = 'decomp')\n",
    "NBG_burst_recall_decomp, BBG_burst_recall_decomp = burst_recall_obj.gamma_burst(107, gamma_type = 'decomp')\n",
    "\n",
    "bursts_average = {'NBG_burst_tone': NBG_burst_tone_average,     'BBG_burst_tone': BBG_burst_tone_average,\n",
    "                  'NBG_burst_recall': NBG_burst_recall_average, 'BBG_burst_recall': BBG_burst_recall_average}\n",
    "\n",
    "bursts_decomp  = {'NBG_burst_tone': NBG_burst_tone_decomp,      'BBG_burst_tone': BBG_burst_tone_decomp,\n",
    "                  'NBG_burst_recall': NBG_burst_recall_decomp,  'BBG_burst_recall': BBG_burst_recall_decomp}"
   ]
  },
  {
   "cell_type": "code",
   "execution_count": null,
   "metadata": {},
   "outputs": [],
   "source": [
    "plot_gamma_burst_rate(bursts_average,107)"
   ]
  },
  {
   "cell_type": "markdown",
   "metadata": {},
   "source": [
    "Burst rate using **method 2**: NBG and BBG were extracted during decomposition."
   ]
  },
  {
   "cell_type": "code",
   "execution_count": null,
   "metadata": {},
   "outputs": [],
   "source": [
    "plot_gamma_burst_rate(bursts_decomp,107)"
   ]
  },
  {
   "cell_type": "markdown",
   "metadata": {},
   "source": [
    "Another example (Chan 110):"
   ]
  },
  {
   "cell_type": "code",
   "execution_count": null,
   "metadata": {},
   "outputs": [],
   "source": [
    "NBG_burst_tone_average,   BBG_burst_tone_average   = burst_tone_obj.gamma_burst(110, gamma_type = 'average')\n",
    "NBG_burst_recall_average, BBG_burst_recall_average = burst_recall_obj.gamma_burst(110, gamma_type = 'average')\n",
    "\n",
    "NBG_burst_tone_decomp,   BBG_burst_tone_decomp   = burst_tone_obj.gamma_burst(110, gamma_type = 'decomp')\n",
    "NBG_burst_recall_decomp, BBG_burst_recall_decomp = burst_recall_obj.gamma_burst(110, gamma_type = 'decomp')\n",
    "\n",
    "bursts_average = {'NBG_burst_tone': NBG_burst_tone_average,     'BBG_burst_tone': BBG_burst_tone_average,\n",
    "                  'NBG_burst_recall': NBG_burst_recall_average, 'BBG_burst_recall': BBG_burst_recall_average}\n",
    "\n",
    "bursts_decomp  = {'NBG_burst_tone': NBG_burst_tone_decomp,      'BBG_burst_tone': BBG_burst_tone_decomp,\n",
    "                  'NBG_burst_recall': NBG_burst_recall_decomp,  'BBG_burst_recall': BBG_burst_recall_decomp}\n",
    "plot_gamma_burst_rate(bursts_average,110)\n",
    "plot_gamma_burst_rate(bursts_decomp,110)"
   ]
  },
  {
   "cell_type": "code",
   "execution_count": null,
   "metadata": {},
   "outputs": [],
   "source": []
  }
 ],
 "metadata": {
  "kernelspec": {
   "display_name": "Python 3",
   "language": "python",
   "name": "python3"
  },
  "language_info": {
   "codemirror_mode": {
    "name": "ipython",
    "version": 3
   },
   "file_extension": ".py",
   "mimetype": "text/x-python",
   "name": "python",
   "nbconvert_exporter": "python",
   "pygments_lexer": "ipython3",
   "version": "3.7.3"
  }
 },
 "nbformat": 4,
 "nbformat_minor": 4
}
